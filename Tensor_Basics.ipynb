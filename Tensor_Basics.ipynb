{
  "nbformat": 4,
  "nbformat_minor": 0,
  "metadata": {
    "colab": {
      "provenance": [],
      "gpuType": "T4",
      "authorship_tag": "ABX9TyPS3LaWU5VQRBAxLAXF8XZ2",
      "include_colab_link": true
    },
    "kernelspec": {
      "name": "python3",
      "display_name": "Python 3"
    },
    "language_info": {
      "name": "python"
    },
    "accelerator": "GPU"
  },
  "cells": [
    {
      "cell_type": "markdown",
      "metadata": {
        "id": "view-in-github",
        "colab_type": "text"
      },
      "source": [
        "<a href=\"https://colab.research.google.com/github/suryavanshi18/Pytorch_Learnings/blob/main/Tensor_Basics.ipynb\" target=\"_parent\"><img src=\"https://colab.research.google.com/assets/colab-badge.svg\" alt=\"Open In Colab\"/></a>"
      ]
    },
    {
      "cell_type": "code",
      "execution_count": null,
      "metadata": {
        "colab": {
          "base_uri": "https://localhost:8080/"
        },
        "id": "X8PMWVoi_IhL",
        "outputId": "532020b8-47ab-4bdf-d929-dfe6d1621c5c"
      },
      "outputs": [
        {
          "output_type": "execute_result",
          "data": {
            "text/plain": [
              "tensor([[1., 2., 3.],\n",
              "        [4., 5., 6.]], device='cuda:0')"
            ]
          },
          "metadata": {},
          "execution_count": 46
        }
      ],
      "source": [
        "import torch\n",
        "device=\"cuda\" if torch.cuda.is_available() else \"cpu\"\n",
        "my_tensor=torch.tensor([[1,2,3],[4,5,6]],dtype=torch.float32,device=device)\n",
        "my_tensor"
      ]
    },
    {
      "cell_type": "code",
      "source": [
        "print(my_tensor.dtype)\n",
        "print(my_tensor.device)\n",
        "print(my_tensor.shape)"
      ],
      "metadata": {
        "colab": {
          "base_uri": "https://localhost:8080/"
        },
        "id": "wSTE0cdgFCxC",
        "outputId": "982c556d-6e6c-4297-8375-5ae303dd17a9"
      },
      "execution_count": null,
      "outputs": [
        {
          "output_type": "stream",
          "name": "stdout",
          "text": [
            "torch.float32\n",
            "cuda:0\n",
            "torch.Size([2, 3])\n"
          ]
        }
      ]
    },
    {
      "cell_type": "code",
      "source": [
        "x=torch.empty(size=(3,3))\n",
        "x\n",
        "#Returns a tensor filled with uninitialized data."
      ],
      "metadata": {
        "colab": {
          "base_uri": "https://localhost:8080/"
        },
        "id": "AkrcdSyyFoOq",
        "outputId": "18a64117-5ded-4575-eaeb-936b496deda4"
      },
      "execution_count": null,
      "outputs": [
        {
          "output_type": "execute_result",
          "data": {
            "text/plain": [
              "tensor([[-1.7726e-02,  3.1393e-41, -1.8759e-02],\n",
              "        [ 3.1393e-41,  1.1210e-43,  0.0000e+00],\n",
              "        [ 1.1210e-43,  0.0000e+00, -1.3801e+03]])"
            ]
          },
          "metadata": {},
          "execution_count": 48
        }
      ]
    },
    {
      "cell_type": "code",
      "source": [
        "#Zeros\n",
        "tensor_zeros=torch.zeros((3,3))\n",
        "print(tensor_zeros)"
      ],
      "metadata": {
        "colab": {
          "base_uri": "https://localhost:8080/"
        },
        "id": "Ru_t-U_HFvUh",
        "outputId": "5160cfa2-581c-448f-db3c-7fbbd330da6e"
      },
      "execution_count": null,
      "outputs": [
        {
          "output_type": "stream",
          "name": "stdout",
          "text": [
            "tensor([[0., 0., 0.],\n",
            "        [0., 0., 0.],\n",
            "        [0., 0., 0.]])\n"
          ]
        }
      ]
    },
    {
      "cell_type": "code",
      "source": [
        "#Random\n",
        "tensor_rand=torch.rand((3,3))\n",
        "tensor_rand"
      ],
      "metadata": {
        "colab": {
          "base_uri": "https://localhost:8080/"
        },
        "id": "ops1B9PVGEPt",
        "outputId": "24a99a14-1888-4d12-8493-f6be3f47681f"
      },
      "execution_count": null,
      "outputs": [
        {
          "output_type": "execute_result",
          "data": {
            "text/plain": [
              "tensor([[0.0339, 0.4509, 0.6733],\n",
              "        [0.6463, 0.5658, 0.9280],\n",
              "        [0.7044, 0.8727, 0.8576]])"
            ]
          },
          "metadata": {},
          "execution_count": 50
        }
      ]
    },
    {
      "cell_type": "code",
      "source": [
        "#Ones\n",
        "tensor_ones=torch.ones((3,3))\n",
        "print(tensor_ones)"
      ],
      "metadata": {
        "colab": {
          "base_uri": "https://localhost:8080/"
        },
        "id": "FzcgGJ6oGRNf",
        "outputId": "4522c20f-7a46-4545-c2b1-508ad61b8f8f"
      },
      "execution_count": null,
      "outputs": [
        {
          "output_type": "stream",
          "name": "stdout",
          "text": [
            "tensor([[1., 1., 1.],\n",
            "        [1., 1., 1.],\n",
            "        [1., 1., 1.]])\n"
          ]
        }
      ]
    },
    {
      "cell_type": "code",
      "source": [
        "#Identity Matrix\n",
        "tensor_eye=torch.eye(5,5)\n",
        "print(tensor_eye)"
      ],
      "metadata": {
        "colab": {
          "base_uri": "https://localhost:8080/"
        },
        "id": "07et9QC_GgaC",
        "outputId": "fc385b20-0b47-4b98-8c79-de562279d369"
      },
      "execution_count": null,
      "outputs": [
        {
          "output_type": "stream",
          "name": "stdout",
          "text": [
            "tensor([[1., 0., 0., 0., 0.],\n",
            "        [0., 1., 0., 0., 0.],\n",
            "        [0., 0., 1., 0., 0.],\n",
            "        [0., 0., 0., 1., 0.],\n",
            "        [0., 0., 0., 0., 1.]])\n"
          ]
        }
      ]
    },
    {
      "cell_type": "code",
      "source": [
        "#Arange\n",
        "tensor_arange=torch.arange(start=0,end=3,step=0.5)\n",
        "print(tensor_arange)"
      ],
      "metadata": {
        "colab": {
          "base_uri": "https://localhost:8080/"
        },
        "id": "QRngGA89Gx06",
        "outputId": "d6ceb563-3a62-437c-85bd-405d2ce0743f"
      },
      "execution_count": null,
      "outputs": [
        {
          "output_type": "stream",
          "name": "stdout",
          "text": [
            "tensor([0.0000, 0.5000, 1.0000, 1.5000, 2.0000, 2.5000])\n"
          ]
        }
      ]
    },
    {
      "cell_type": "code",
      "source": [
        "#Linespace\n",
        "tensor_linespace=torch.linspace(start=0.1,end=2,steps=10)\n",
        "tensor_linespace"
      ],
      "metadata": {
        "colab": {
          "base_uri": "https://localhost:8080/"
        },
        "id": "UWMwwaUKHA4A",
        "outputId": "a8a004a9-b6c6-4a4f-b2ec-e921b8d007d5"
      },
      "execution_count": null,
      "outputs": [
        {
          "output_type": "execute_result",
          "data": {
            "text/plain": [
              "tensor([0.1000, 0.3111, 0.5222, 0.7333, 0.9444, 1.1556, 1.3667, 1.5778, 1.7889,\n",
              "        2.0000])"
            ]
          },
          "metadata": {},
          "execution_count": 54
        }
      ]
    },
    {
      "cell_type": "code",
      "source": [
        "#Normal Tensor\n",
        "tensor_normal=torch.empty(size=(3,4)).normal_(mean=0,std=1)\n",
        "tensor_normal"
      ],
      "metadata": {
        "colab": {
          "base_uri": "https://localhost:8080/"
        },
        "id": "mzqKUtYdHgbk",
        "outputId": "dfcd019b-5edf-4dce-c199-2ed9cba0291f"
      },
      "execution_count": null,
      "outputs": [
        {
          "output_type": "execute_result",
          "data": {
            "text/plain": [
              "tensor([[-0.6417, -0.9556,  1.3379,  1.6353],\n",
              "        [ 0.8567, -1.0174,  0.1074,  0.0916],\n",
              "        [ 0.0484,  0.0576, -0.0425,  0.2518]])"
            ]
          },
          "metadata": {},
          "execution_count": 55
        }
      ]
    },
    {
      "cell_type": "code",
      "source": [
        "#Uniform Tensor\n",
        "tensor_uniform=torch.empty(size=(3,4)).uniform_(4,6)\n",
        "tensor_uniform"
      ],
      "metadata": {
        "colab": {
          "base_uri": "https://localhost:8080/"
        },
        "id": "vFVoSGcqJgk9",
        "outputId": "29b10cd7-575c-406a-b6cf-4186577a13cc"
      },
      "execution_count": null,
      "outputs": [
        {
          "output_type": "execute_result",
          "data": {
            "text/plain": [
              "tensor([[5.7322, 5.7838, 4.1031, 4.6286],\n",
              "        [4.2130, 5.1025, 4.6911, 4.3339],\n",
              "        [5.2188, 4.8924, 5.4214, 5.6424]])"
            ]
          },
          "metadata": {},
          "execution_count": 56
        }
      ]
    },
    {
      "cell_type": "code",
      "source": [
        "tensor_arange=torch.arange(4)\n",
        "print(tensor_arange.bool())"
      ],
      "metadata": {
        "colab": {
          "base_uri": "https://localhost:8080/"
        },
        "id": "sikRE0LAJne_",
        "outputId": "a8e50db6-a1ac-4769-c4f2-330078d3a299"
      },
      "execution_count": null,
      "outputs": [
        {
          "output_type": "stream",
          "name": "stdout",
          "text": [
            "tensor([False,  True,  True,  True])\n"
          ]
        }
      ]
    },
    {
      "cell_type": "code",
      "source": [
        "import numpy as np\n",
        "np_array=np.zeros((5,5))\n",
        "tensor=torch.from_numpy(np_array)\n",
        "np_array_back=tensor.numpy()"
      ],
      "metadata": {
        "id": "1visxsKDStgL"
      },
      "execution_count": null,
      "outputs": []
    },
    {
      "cell_type": "code",
      "source": [
        "#Add\n",
        "x=torch.tensor([1,2,3])\n",
        "y=torch.tensor([9,8,7])\n",
        "z1=torch.empty(3)\n",
        "torch.add(x,y,out=z1)\n"
      ],
      "metadata": {
        "colab": {
          "base_uri": "https://localhost:8080/"
        },
        "id": "V3oh4Ef1Thbq",
        "outputId": "cf04fd6e-babb-488c-8807-19291dd49c71"
      },
      "execution_count": null,
      "outputs": [
        {
          "output_type": "execute_result",
          "data": {
            "text/plain": [
              "tensor([10., 10., 10.])"
            ]
          },
          "metadata": {},
          "execution_count": 59
        }
      ]
    },
    {
      "cell_type": "code",
      "source": [
        "z2=torch.add(x,y)\n",
        "print(z2)"
      ],
      "metadata": {
        "colab": {
          "base_uri": "https://localhost:8080/"
        },
        "id": "AJf_7dgfUHVi",
        "outputId": "5d91bb01-12dc-463f-8ce1-52e74bb3c5ac"
      },
      "execution_count": null,
      "outputs": [
        {
          "output_type": "stream",
          "name": "stdout",
          "text": [
            "tensor([10, 10, 10])\n"
          ]
        }
      ]
    },
    {
      "cell_type": "code",
      "source": [
        "#Multiplication\n",
        "x1=torch.rand((2,5))\n",
        "x2=torch.rand((5,3))\n",
        "x3=torch.mm(x1,x2)\n",
        "print(x3)"
      ],
      "metadata": {
        "colab": {
          "base_uri": "https://localhost:8080/"
        },
        "id": "9YvDBM56Us96",
        "outputId": "f7b86205-3cdd-474d-e32a-a143d7b6165d"
      },
      "execution_count": null,
      "outputs": [
        {
          "output_type": "stream",
          "name": "stdout",
          "text": [
            "tensor([[0.5468, 0.8738, 0.9627],\n",
            "        [1.7922, 1.6776, 1.8380]])\n"
          ]
        }
      ]
    },
    {
      "cell_type": "code",
      "source": [
        "dot=torch.dot(x,y)\n",
        "print(dot)"
      ],
      "metadata": {
        "colab": {
          "base_uri": "https://localhost:8080/"
        },
        "id": "lWt9eB7gVDgJ",
        "outputId": "9ea05ea2-a2f7-4c83-da4f-414fdfa0a408"
      },
      "execution_count": null,
      "outputs": [
        {
          "output_type": "stream",
          "name": "stdout",
          "text": [
            "tensor(46)\n"
          ]
        }
      ]
    },
    {
      "cell_type": "code",
      "source": [
        "batch=30\n",
        "n=10\n",
        "m=20\n",
        "p=30\n",
        "tensor1=torch.rand((batch,n,m))\n",
        "tensor2=torch.rand((batch,m,p))\n",
        "#n,m matches m,p->n,p final dim\n",
        "out_bmm=torch.bmm(tensor1,tensor2)\n",
        "out_bmm"
      ],
      "metadata": {
        "colab": {
          "base_uri": "https://localhost:8080/"
        },
        "id": "-CS1wjXVVR6h",
        "outputId": "20b5b462-3b9d-44c8-8da8-c4e091ee1c4b"
      },
      "execution_count": null,
      "outputs": [
        {
          "output_type": "execute_result",
          "data": {
            "text/plain": [
              "tensor([[[5.1304, 5.8017, 5.0474,  ..., 5.1143, 5.3425, 4.5885],\n",
              "         [6.4246, 6.6289, 5.6186,  ..., 5.4594, 6.2092, 6.1835],\n",
              "         [4.8559, 5.8464, 4.8927,  ..., 4.8041, 4.2654, 3.5779],\n",
              "         ...,\n",
              "         [4.8011, 5.5742, 4.8256,  ..., 3.8009, 4.4081, 4.3203],\n",
              "         [4.2735, 5.7505, 4.6853,  ..., 4.0235, 4.3005, 4.6112],\n",
              "         [5.8884, 6.0767, 4.8093,  ..., 5.3062, 4.7880, 4.9946]],\n",
              "\n",
              "        [[3.6400, 4.4152, 4.3077,  ..., 3.6869, 4.4545, 4.4312],\n",
              "         [4.5998, 4.7728, 3.8458,  ..., 5.0459, 4.6052, 4.7415],\n",
              "         [4.6389, 6.1503, 6.0243,  ..., 4.9748, 5.3555, 5.8255],\n",
              "         ...,\n",
              "         [4.8706, 5.5529, 5.4544,  ..., 4.8024, 5.2684, 5.4740],\n",
              "         [4.5231, 5.4201, 4.6092,  ..., 3.9174, 4.6261, 5.5280],\n",
              "         [5.3986, 6.0843, 4.8438,  ..., 5.4757, 5.7669, 5.3299]],\n",
              "\n",
              "        [[2.9895, 4.4752, 4.2776,  ..., 4.2128, 3.2156, 5.4141],\n",
              "         [4.2118, 5.4581, 5.1160,  ..., 5.5303, 4.3354, 6.2674],\n",
              "         [5.0833, 5.9103, 5.7432,  ..., 6.4196, 4.4131, 7.1477],\n",
              "         ...,\n",
              "         [4.6025, 6.0064, 5.6316,  ..., 6.1498, 4.3359, 6.1475],\n",
              "         [4.1139, 5.6111, 5.1568,  ..., 4.8768, 4.6032, 5.7931],\n",
              "         [4.4923, 4.6790, 4.6775,  ..., 5.6182, 3.8021, 5.4222]],\n",
              "\n",
              "        ...,\n",
              "\n",
              "        [[4.3087, 3.5401, 4.3081,  ..., 3.4847, 3.9659, 4.8309],\n",
              "         [5.7163, 5.2822, 5.4577,  ..., 4.4870, 4.9541, 5.6526],\n",
              "         [3.8467, 4.0769, 3.6716,  ..., 4.2122, 4.0222, 4.0026],\n",
              "         ...,\n",
              "         [4.7253, 4.1099, 4.0999,  ..., 3.7216, 4.9333, 5.3479],\n",
              "         [4.8679, 5.0177, 4.3289,  ..., 5.0032, 4.6753, 5.3979],\n",
              "         [5.4065, 4.3738, 4.7487,  ..., 4.9130, 4.7490, 5.9338]],\n",
              "\n",
              "        [[3.5901, 6.0679, 6.0156,  ..., 6.2862, 5.2278, 5.8606],\n",
              "         [4.6490, 5.3364, 5.7588,  ..., 6.3494, 4.7971, 5.0500],\n",
              "         [4.2348, 5.3586, 6.1133,  ..., 5.4162, 5.2346, 6.2115],\n",
              "         ...,\n",
              "         [3.2651, 4.3386, 5.2055,  ..., 5.2726, 4.1653, 5.4389],\n",
              "         [4.8197, 5.4010, 7.5444,  ..., 6.8594, 5.5910, 6.8174],\n",
              "         [3.9332, 5.2221, 5.5566,  ..., 6.0256, 4.3631, 4.7139]],\n",
              "\n",
              "        [[5.6930, 3.5644, 4.8743,  ..., 4.5532, 4.3700, 5.4593],\n",
              "         [6.5449, 4.7625, 5.4877,  ..., 5.3904, 5.0179, 5.1803],\n",
              "         [5.1265, 3.0293, 4.7525,  ..., 3.8397, 3.8535, 5.4277],\n",
              "         ...,\n",
              "         [5.0437, 2.4689, 4.0184,  ..., 3.8561, 2.7283, 4.4421],\n",
              "         [4.8069, 3.2325, 4.5445,  ..., 3.9563, 4.3009, 4.4242],\n",
              "         [6.8559, 4.0685, 6.2210,  ..., 5.1119, 4.6604, 6.5968]]])"
            ]
          },
          "metadata": {},
          "execution_count": 63
        }
      ]
    },
    {
      "cell_type": "code",
      "source": [
        "out_bmm.shape"
      ],
      "metadata": {
        "colab": {
          "base_uri": "https://localhost:8080/"
        },
        "id": "rfsyxtaSWJew",
        "outputId": "58b11607-21f5-456e-9e69-ad29ebdc0e30"
      },
      "execution_count": null,
      "outputs": [
        {
          "output_type": "execute_result",
          "data": {
            "text/plain": [
              "torch.Size([30, 10, 30])"
            ]
          },
          "metadata": {},
          "execution_count": 64
        }
      ]
    },
    {
      "cell_type": "code",
      "source": [
        "#Broadcasting\n",
        "x1=torch.rand((2,3))\n",
        "x2=torch.rand((1,5))\n",
        "sum_x_dim0=torch.sum(x1,dim=0)\n",
        "sum_x_dim1=torch.sum(x1,dim=1)\n",
        "print(sum_x_dim1)\n",
        "print(sum_x_dim0)"
      ],
      "metadata": {
        "colab": {
          "base_uri": "https://localhost:8080/"
        },
        "id": "KfxmEPYtWNKj",
        "outputId": "a55ac1dd-7505-4cd1-8336-ae47c4a6c963"
      },
      "execution_count": null,
      "outputs": [
        {
          "output_type": "stream",
          "name": "stdout",
          "text": [
            "tensor([1.9884, 2.1313])\n",
            "tensor([1.8226, 0.8425, 1.4546])\n"
          ]
        }
      ]
    }
  ]
}