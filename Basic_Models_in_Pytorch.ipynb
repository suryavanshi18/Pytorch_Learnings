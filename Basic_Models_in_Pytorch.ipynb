{
  "nbformat": 4,
  "nbformat_minor": 0,
  "metadata": {
    "colab": {
      "provenance": [],
      "authorship_tag": "ABX9TyN+JkfWAGGk5nfbSYYMi1S/",
      "include_colab_link": true
    },
    "kernelspec": {
      "name": "python3",
      "display_name": "Python 3"
    },
    "language_info": {
      "name": "python"
    }
  },
  "cells": [
    {
      "cell_type": "markdown",
      "metadata": {
        "id": "view-in-github",
        "colab_type": "text"
      },
      "source": [
        "<a href=\"https://colab.research.google.com/github/suryavanshi18/Pytorch_Learnings/blob/main/Basic_Models_in_Pytorch.ipynb\" target=\"_parent\"><img src=\"https://colab.research.google.com/assets/colab-badge.svg\" alt=\"Open In Colab\"/></a>"
      ]
    },
    {
      "cell_type": "code",
      "execution_count": 1,
      "metadata": {
        "id": "BHZ1pORmX4KV"
      },
      "outputs": [],
      "source": [
        "import torch\n",
        "import torch.nn as nn\n",
        "import torch.nn.functional as F"
      ]
    },
    {
      "cell_type": "code",
      "source": [
        "class Model(nn.Module):\n",
        "  def __init__(self):\n",
        "    super().__init__()\n",
        "    self.layer1=nn.Linear(128,32)\n",
        "    self.layer2=nn.Linear(32,16)\n",
        "    self.layer3=nn.Linear(16,1)\n",
        "  def forward(self,features):\n",
        "    x=self.layer1(features)\n",
        "    x=self.layer2(x)\n",
        "    x=self.layer3(x)\n",
        "    return x"
      ],
      "metadata": {
        "id": "Ke4Cr1JdYDmb"
      },
      "execution_count": 2,
      "outputs": []
    },
    {
      "cell_type": "code",
      "source": [
        "model=Model()\n",
        "features=torch.rand((3,128))\n",
        "#3 is the batch size and 128 is the number of features for input\n",
        "#128 is fed in the layer1 in_features\n",
        "#For outfeatures in layer1 we can define any number and after that we build the layer\n",
        "model(features)\n",
        "#Since batch size is 3 we would get 3 outputs"
      ],
      "metadata": {
        "colab": {
          "base_uri": "https://localhost:8080/"
        },
        "id": "NCcYzT1ScLn5",
        "outputId": "8decfc45-c079-4130-bd41-e3a8264d7abd"
      },
      "execution_count": 3,
      "outputs": [
        {
          "output_type": "execute_result",
          "data": {
            "text/plain": [
              "tensor([[-0.1481],\n",
              "        [-0.0863],\n",
              "        [-0.0757]], grad_fn=<AddmmBackward0>)"
            ]
          },
          "metadata": {},
          "execution_count": 3
        }
      ]
    },
    {
      "cell_type": "code",
      "source": [
        "#Here we are implementing a linear regression model\n",
        "x=torch.rand((3,10))\n",
        "in_features=x.shape[1]\n",
        "out_features=5\n",
        "m=nn.Linear(in_features,out_features)"
      ],
      "metadata": {
        "id": "pCcwQANFcY1h"
      },
      "execution_count": 4,
      "outputs": []
    },
    {
      "cell_type": "code",
      "source": [
        "y=m(x)\n",
        "#Behind the scenes\n",
        "#y = x.matmul(m.weight.t()) + m.bias\n",
        "print(y)\n",
        "#Note that variable m would have weights and bias as the parameters\n",
        "print(m.weight)\n",
        "#The dimension of weight would be out_features,in_features\n",
        "print(m.bias)\n",
        "#The dimension of bias would be out_features"
      ],
      "metadata": {
        "colab": {
          "base_uri": "https://localhost:8080/"
        },
        "id": "ATQxPnG-eaUy",
        "outputId": "52af0544-b541-4519-cc59-3c95a45a2c3b"
      },
      "execution_count": 5,
      "outputs": [
        {
          "output_type": "stream",
          "name": "stdout",
          "text": [
            "tensor([[-0.0286, -0.2675, -0.9084,  0.2820,  0.1281],\n",
            "        [-0.0286, -0.4838, -0.5464,  0.3522,  0.1278],\n",
            "        [-0.0281, -0.4795, -0.4652,  0.6217,  0.0554]],\n",
            "       grad_fn=<AddmmBackward0>)\n",
            "Parameter containing:\n",
            "tensor([[-0.1109,  0.0564, -0.1142, -0.0596,  0.0852, -0.1523,  0.2055, -0.1890,\n",
            "          0.2481,  0.0218],\n",
            "        [ 0.0742, -0.0650, -0.0913, -0.0781,  0.2768,  0.0294,  0.1040, -0.2514,\n",
            "          0.1815, -0.2111],\n",
            "        [-0.1589, -0.1758, -0.0346, -0.3130, -0.1153, -0.0877, -0.1820, -0.2714,\n",
            "         -0.1276,  0.1889],\n",
            "        [ 0.0141,  0.1995,  0.2687, -0.2341,  0.2490, -0.1239,  0.0618, -0.0386,\n",
            "         -0.3141,  0.2102],\n",
            "        [ 0.1419,  0.2515, -0.1898, -0.1550,  0.0170,  0.0734, -0.0980, -0.2771,\n",
            "         -0.1926,  0.2839]], requires_grad=True)\n",
            "Parameter containing:\n",
            "tensor([ 0.1926, -0.2347,  0.0652,  0.2463,  0.1092], requires_grad=True)\n"
          ]
        }
      ]
    },
    {
      "cell_type": "code",
      "source": [
        "class LinearRegression(nn.Module):\n",
        "  def __init__(self):\n",
        "    super(LinearRegression,self).__init__()\n",
        "    self.layer1=nn.Linear(1,1)\n",
        "  def forward(self,x):\n",
        "    y_pred=self.layer1(x)\n",
        "    return y_pred"
      ],
      "metadata": {
        "id": "sTZTBj7DebdZ"
      },
      "execution_count": 6,
      "outputs": []
    },
    {
      "cell_type": "code",
      "source": [
        "x=torch.rand((1,1))\n",
        "print(x)\n",
        "model=LinearRegression()\n",
        "y=model(x)\n",
        "print(y)"
      ],
      "metadata": {
        "colab": {
          "base_uri": "https://localhost:8080/"
        },
        "id": "3dQMj63HljQG",
        "outputId": "c1de30b1-4203-45f2-fdc7-d5be400025ec"
      },
      "execution_count": 7,
      "outputs": [
        {
          "output_type": "stream",
          "name": "stdout",
          "text": [
            "tensor([[0.9783]])\n",
            "tensor([[-1.0475]], grad_fn=<AddmmBackward0>)\n"
          ]
        }
      ]
    },
    {
      "cell_type": "code",
      "source": [
        "x=torch.rand((1,1))\n",
        "x"
      ],
      "metadata": {
        "colab": {
          "base_uri": "https://localhost:8080/"
        },
        "id": "LU4tXFYellNK",
        "outputId": "7b4b4698-3701-45f8-8961-6ab4a61c4bcc"
      },
      "execution_count": 8,
      "outputs": [
        {
          "output_type": "execute_result",
          "data": {
            "text/plain": [
              "tensor([[0.6812]])"
            ]
          },
          "metadata": {},
          "execution_count": 8
        }
      ]
    },
    {
      "cell_type": "markdown",
      "source": [
        "<b>Assumptions for linear regression</b><br>\n",
        "The relationship between the independent and dependent variables should be linear. <br>\n",
        "No Multicolinaerity: If the predictor variables are correlated among themselves, then the data is said to have a multicollinearity problem. But why is this a problem? The answer to this question is that high collinearity means that the two variables vary very similarly and contain the same kind of information<br>\n",
        "Homoscedasity is the term that states that the spread residuals which we are getting from the linear regression model should be homogeneous or equal spaces.<br>\n",
        "This assumption ensures that you have equally distributed observations for the range of each predictor\n",
        "\n"
      ],
      "metadata": {
        "id": "eKbcvzorsZnT"
      }
    },
    {
      "cell_type": "code",
      "source": [
        "#Autograd\n",
        "#Automatic differentiation engine in pytorch\n",
        "a=torch.tensor([5.],requires_grad=True)\n",
        "b=torch.tensor([6.],requires_grad=True)"
      ],
      "metadata": {
        "id": "OiJesS3Hs3KV"
      },
      "execution_count": 9,
      "outputs": []
    },
    {
      "cell_type": "code",
      "source": [
        "y=a**3+b**2"
      ],
      "metadata": {
        "id": "KsG50B0yEd81"
      },
      "execution_count": 10,
      "outputs": []
    },
    {
      "cell_type": "code",
      "source": [
        "#calculating gradients\n",
        "#dy/da->3*a**2->\n",
        "#dy/db->2*b\n",
        "#Using autograd we can do automatically"
      ],
      "metadata": {
        "id": "F2n5MbeME9Np"
      },
      "execution_count": 11,
      "outputs": []
    },
    {
      "cell_type": "code",
      "source": [
        "y.backward()"
      ],
      "metadata": {
        "id": "iCBpYQ2QFM9h"
      },
      "execution_count": 12,
      "outputs": []
    },
    {
      "cell_type": "code",
      "source": [
        "a.grad"
      ],
      "metadata": {
        "colab": {
          "base_uri": "https://localhost:8080/"
        },
        "id": "rVj-D2v4Feqd",
        "outputId": "6d7fefcf-28db-482c-bdda-119601a418e0"
      },
      "execution_count": 13,
      "outputs": [
        {
          "output_type": "execute_result",
          "data": {
            "text/plain": [
              "tensor([75.])"
            ]
          },
          "metadata": {},
          "execution_count": 13
        }
      ]
    },
    {
      "cell_type": "code",
      "source": [
        "b.grad"
      ],
      "metadata": {
        "colab": {
          "base_uri": "https://localhost:8080/"
        },
        "id": "bUbmnwv-Fnk1",
        "outputId": "6a0f8bcc-b454-4548-ed39-13438dc4bd97"
      },
      "execution_count": 14,
      "outputs": [
        {
          "output_type": "execute_result",
          "data": {
            "text/plain": [
              "tensor([12.])"
            ]
          },
          "metadata": {},
          "execution_count": 14
        }
      ]
    },
    {
      "cell_type": "code",
      "source": [
        "W=torch.randn(10,1,requires_grad=True)\n",
        "b=torch.randn(1,requires_grad=True)"
      ],
      "metadata": {
        "id": "7XbW1-49F13c"
      },
      "execution_count": 15,
      "outputs": []
    },
    {
      "cell_type": "code",
      "source": [
        "x=torch.rand(1,10)"
      ],
      "metadata": {
        "id": "P_nDPMbcHiwd"
      },
      "execution_count": 16,
      "outputs": []
    },
    {
      "cell_type": "code",
      "source": [
        "y=torch.matmul(x,W)+b"
      ],
      "metadata": {
        "id": "HgDFKczGHot8"
      },
      "execution_count": 17,
      "outputs": []
    },
    {
      "cell_type": "code",
      "source": [
        "loss=1-y"
      ],
      "metadata": {
        "id": "hN-wTlQpHsOT"
      },
      "execution_count": 18,
      "outputs": []
    },
    {
      "cell_type": "code",
      "source": [
        "loss.backward()"
      ],
      "metadata": {
        "id": "oV1FcJRIHzFM"
      },
      "execution_count": 20,
      "outputs": []
    },
    {
      "cell_type": "code",
      "source": [
        "W.grad"
      ],
      "metadata": {
        "colab": {
          "base_uri": "https://localhost:8080/"
        },
        "id": "TfsieBoNH5By",
        "outputId": "c0aece0e-cebc-4bc3-ba2b-bddb3735b0ac"
      },
      "execution_count": 22,
      "outputs": [
        {
          "output_type": "execute_result",
          "data": {
            "text/plain": [
              "tensor([[-0.6927],\n",
              "        [-0.8831],\n",
              "        [-0.9220],\n",
              "        [-0.7270],\n",
              "        [-0.9824],\n",
              "        [-0.5396],\n",
              "        [-0.4486],\n",
              "        [-0.0477],\n",
              "        [-0.2235],\n",
              "        [-0.6920]])"
            ]
          },
          "metadata": {},
          "execution_count": 22
        }
      ]
    },
    {
      "cell_type": "code",
      "source": [
        "b.grad"
      ],
      "metadata": {
        "colab": {
          "base_uri": "https://localhost:8080/"
        },
        "id": "ABLeyiuyIZEy",
        "outputId": "4c7c82fc-8658-4d6f-d180-dc93238f4684"
      },
      "execution_count": 23,
      "outputs": [
        {
          "output_type": "execute_result",
          "data": {
            "text/plain": [
              "tensor([-1.])"
            ]
          },
          "metadata": {},
          "execution_count": 23
        }
      ]
    },
    {
      "cell_type": "code",
      "source": [
        "learning_rate=0.01\n",
        "with torch.no_grad():#We use no grad so that grad for variables is not calculate again\n",
        "  W=W-learning_rate*W.grad.data"
      ],
      "metadata": {
        "id": "XhkYvdvZIdP0"
      },
      "execution_count": 24,
      "outputs": []
    },
    {
      "cell_type": "code",
      "source": [
        "W"
      ],
      "metadata": {
        "colab": {
          "base_uri": "https://localhost:8080/"
        },
        "id": "Dq7qZD0fKSma",
        "outputId": "e469616e-fd9c-44c8-8538-14769f21a543"
      },
      "execution_count": 25,
      "outputs": [
        {
          "output_type": "execute_result",
          "data": {
            "text/plain": [
              "tensor([[-0.1391],\n",
              "        [-1.0786],\n",
              "        [ 0.3194],\n",
              "        [-0.4274],\n",
              "        [ 0.4103],\n",
              "        [ 0.9445],\n",
              "        [-0.7255],\n",
              "        [ 1.5818],\n",
              "        [-0.6740],\n",
              "        [-1.9844]])"
            ]
          },
          "metadata": {},
          "execution_count": 25
        }
      ]
    },
    {
      "cell_type": "code",
      "source": [
        "with torch.no_grad():\n",
        "  b=b-learning_rate*b.grad.data"
      ],
      "metadata": {
        "id": "bQ2L-8aFKTTZ"
      },
      "execution_count": 26,
      "outputs": []
    },
    {
      "cell_type": "code",
      "source": [
        "b"
      ],
      "metadata": {
        "colab": {
          "base_uri": "https://localhost:8080/"
        },
        "id": "NdG9iwVHKu5U",
        "outputId": "96d956f8-3026-42aa-fb51-8fc405147ab0"
      },
      "execution_count": 27,
      "outputs": [
        {
          "output_type": "execute_result",
          "data": {
            "text/plain": [
              "tensor([-0.1013])"
            ]
          },
          "metadata": {},
          "execution_count": 27
        }
      ]
    },
    {
      "cell_type": "code",
      "source": [
        "from sklearn.datasets import make_classification\n",
        "from sklearn.model_selection import train_test_split\n",
        "from sklearn import metrics\n",
        "import torch"
      ],
      "metadata": {
        "id": "r19edxc3Q7K9"
      },
      "execution_count": 74,
      "outputs": []
    },
    {
      "cell_type": "code",
      "source": [
        "#Custom Dataset for linear regression\n",
        "class CustomDataset:\n",
        "  def __init__(self,data,targets):\n",
        "    self.data=data\n",
        "    self.targets=targets\n",
        "  def __len__(self):\n",
        "    return self.data.shape[0]\n",
        "  def __getitem__(self,index):\n",
        "    currSample=self.data[index,:]\n",
        "    currTarget=self.targets[index]\n",
        "    return {\n",
        "        \"samples\":torch.tensor(currSample,dtype=torch.float),\n",
        "        \"target\":torch.tensor(currTarget,dtype=torch.long)\n",
        "    }"
      ],
      "metadata": {
        "id": "BYfK0E-WKvks"
      },
      "execution_count": 49,
      "outputs": []
    },
    {
      "cell_type": "code",
      "source": [
        "data,targets=make_classification(n_samples=1000)"
      ],
      "metadata": {
        "id": "YJxRvAQIRNQE"
      },
      "execution_count": 50,
      "outputs": []
    },
    {
      "cell_type": "code",
      "source": [
        "data.shape"
      ],
      "metadata": {
        "colab": {
          "base_uri": "https://localhost:8080/"
        },
        "id": "2C9B6Ix7RX7e",
        "outputId": "8270efe3-7a2e-458d-e56e-64baba31b6c2"
      },
      "execution_count": 32,
      "outputs": [
        {
          "output_type": "execute_result",
          "data": {
            "text/plain": [
              "(1000, 20)"
            ]
          },
          "metadata": {},
          "execution_count": 32
        }
      ]
    },
    {
      "cell_type": "code",
      "source": [
        "targets.shape"
      ],
      "metadata": {
        "colab": {
          "base_uri": "https://localhost:8080/"
        },
        "id": "MNcT0MV9RZGs",
        "outputId": "19a57346-5aa3-4ac4-c501-a0709fa7eb0c"
      },
      "execution_count": 33,
      "outputs": [
        {
          "output_type": "execute_result",
          "data": {
            "text/plain": [
              "(1000,)"
            ]
          },
          "metadata": {},
          "execution_count": 33
        }
      ]
    },
    {
      "cell_type": "code",
      "source": [
        "custom_datasets=CustomDataset(data=data,targets=targets)"
      ],
      "metadata": {
        "id": "qYZqw-WcRbJU"
      },
      "execution_count": 51,
      "outputs": []
    },
    {
      "cell_type": "code",
      "source": [
        "len(custom_datasets)"
      ],
      "metadata": {
        "colab": {
          "base_uri": "https://localhost:8080/"
        },
        "id": "BAEbGd2eRt7S",
        "outputId": "5fa34660-be02-4266-b4b6-4d08e777146e"
      },
      "execution_count": 39,
      "outputs": [
        {
          "output_type": "execute_result",
          "data": {
            "text/plain": [
              "1000"
            ]
          },
          "metadata": {},
          "execution_count": 39
        }
      ]
    },
    {
      "cell_type": "code",
      "source": [
        "custom_datasets[0][\"samples\"]"
      ],
      "metadata": {
        "colab": {
          "base_uri": "https://localhost:8080/"
        },
        "id": "8GUJpkIyRwnE",
        "outputId": "2b03abb1-4e0e-4988-ab73-ea26cc9a94d6"
      },
      "execution_count": 53,
      "outputs": [
        {
          "output_type": "execute_result",
          "data": {
            "text/plain": [
              "tensor([ 0.5168,  1.0521,  0.3937, -1.1096, -0.1974, -0.9935,  0.3359,  1.2228,\n",
              "         0.4102,  0.3713,  0.4903, -0.3093,  0.1157, -0.1246, -0.1159, -1.7033,\n",
              "         0.4199, -0.4288,  2.1212,  0.7183])"
            ]
          },
          "metadata": {},
          "execution_count": 53
        }
      ]
    },
    {
      "cell_type": "code",
      "source": [
        "#Dataloader\n",
        "#We need to load the data in batches to train our model\n",
        "#batch size->how many samples per batch to load\n",
        "#num_workers->how many subprocesses(cores) to use for data loading. 0->means data will be loaded in main process\n",
        "#drop_last->if dataset is not divisible by batch size then we can set this to true\n",
        "#train_loader is a generator\n",
        "train_loader=torch.utils.data.DataLoader(custom_datasets,batch_size=4,num_workers=2)"
      ],
      "metadata": {
        "id": "EwaCSYxudjU7"
      },
      "execution_count": 58,
      "outputs": []
    },
    {
      "cell_type": "code",
      "source": [
        "for data in train_loader:\n",
        "  print(data)\n",
        "  print(data[\"samples\"].shape)\n",
        "  print(data[\"target\"].shape)\n",
        "  break"
      ],
      "metadata": {
        "colab": {
          "base_uri": "https://localhost:8080/"
        },
        "id": "Tk2QzjunfrNE",
        "outputId": "8c0dbc6a-3f0c-4d67-fc2d-4507db5a6cc7"
      },
      "execution_count": 62,
      "outputs": [
        {
          "output_type": "stream",
          "name": "stdout",
          "text": [
            "{'samples': tensor([[ 5.1676e-01,  1.0521e+00,  3.9372e-01, -1.1096e+00, -1.9742e-01,\n",
            "         -9.9348e-01,  3.3588e-01,  1.2228e+00,  4.1022e-01,  3.7128e-01,\n",
            "          4.9033e-01, -3.0926e-01,  1.1567e-01, -1.2461e-01, -1.1585e-01,\n",
            "         -1.7033e+00,  4.1993e-01, -4.2885e-01,  2.1212e+00,  7.1825e-01],\n",
            "        [-1.7541e+00,  1.5257e-01, -1.2827e+00, -1.0326e+00, -3.7459e-01,\n",
            "         -2.9405e-01, -1.3067e-01,  2.7293e-01, -6.5734e-01,  2.7518e+00,\n",
            "         -2.5912e+00, -2.0071e-01,  6.2650e-01,  1.1075e+00, -1.5948e+00,\n",
            "         -3.7932e-01, -7.3896e-02,  2.2073e+00, -1.2723e+00, -1.1668e+00],\n",
            "        [-4.7920e-01, -9.7815e-01, -8.5595e-01, -4.5432e-01,  2.1634e+00,\n",
            "          5.7243e-01, -1.5957e-01, -1.9987e-02, -1.6884e-01, -7.0060e-01,\n",
            "         -5.9811e-01, -7.7257e-01,  1.5815e-01,  2.2149e-01,  1.3980e-01,\n",
            "          1.1005e-01,  2.1358e-01,  5.1399e-01,  1.0677e+00,  4.1008e-01],\n",
            "        [-6.5755e-01, -1.7326e+00, -1.8578e-01,  7.6890e-01,  1.3393e+00,\n",
            "          1.1344e+00,  8.7166e-01,  2.3727e+00, -1.3403e-01,  1.7282e-03,\n",
            "          6.3155e-01,  1.8101e+00, -8.5865e-01, -7.6871e-01,  1.0751e-01,\n",
            "         -7.1320e-02, -1.1344e+00, -4.7246e-01,  9.1329e-01, -9.1349e-01]]), 'target': tensor([1, 0, 0, 0])}\n",
            "torch.Size([4, 20])\n",
            "torch.Size([4])\n"
          ]
        }
      ]
    },
    {
      "cell_type": "code",
      "source": [
        "# for epochs in range(10):\n",
        "#   for data in train_loader:\n",
        "#     #Do forward pass\n",
        "#     x=data[\"samples\"]\n",
        "#     y=data[\"targets\"]\n",
        "#     outputs=model(x,y)\n",
        "#     #loss\n",
        "#     #loss backward\n"
      ],
      "metadata": {
        "id": "l3dEEXBCfrPv"
      },
      "execution_count": null,
      "outputs": []
    },
    {
      "cell_type": "code",
      "source": [
        "#train test split\n",
        "#startify keeps the ratio of positive and negative samples in target variable same\n",
        "tarin_data,test_data,train_targets,test_targets=train_test_split(data,targets,stratify=targets)"
      ],
      "metadata": {
        "id": "0WfcqGeOR_t0"
      },
      "execution_count": 55,
      "outputs": []
    },
    {
      "cell_type": "code",
      "source": [
        "train_dataset=CustomDataset(tarin_data,train_targets)\n",
        "test_dataset=CustomDataset(test_data,test_targets)"
      ],
      "metadata": {
        "id": "JmVxDDAWZ5FE"
      },
      "execution_count": 57,
      "outputs": []
    },
    {
      "cell_type": "code",
      "source": [
        "train_loader=torch.utils.data.DataLoader(train_dataset,batch_size=4,num_workers=2)\n",
        "test_loader=torch.utils.data.DataLoader(test_dataset,batch_size=4,num_workers=2)"
      ],
      "metadata": {
        "id": "r9mmpF_jb20S"
      },
      "execution_count": 63,
      "outputs": []
    },
    {
      "cell_type": "code",
      "source": [
        "model=lambda x,w,b:torch.matmul(x,w)+b"
      ],
      "metadata": {
        "id": "6YOwDgvzhrt9"
      },
      "execution_count": 64,
      "outputs": []
    },
    {
      "cell_type": "code",
      "source": [
        "tarin_data.shape"
      ],
      "metadata": {
        "colab": {
          "base_uri": "https://localhost:8080/"
        },
        "id": "_54yDe27iU6k",
        "outputId": "62c46d0c-466e-44de-e05b-3ff80955b5e6"
      },
      "execution_count": 65,
      "outputs": [
        {
          "output_type": "execute_result",
          "data": {
            "text/plain": [
              "(750, 20)"
            ]
          },
          "metadata": {},
          "execution_count": 65
        }
      ]
    },
    {
      "cell_type": "code",
      "source": [
        "test_data.shape"
      ],
      "metadata": {
        "colab": {
          "base_uri": "https://localhost:8080/"
        },
        "id": "iUKZ3s32iYBE",
        "outputId": "bc0c801b-ed29-4379-de95-1d4bdc39a7e3"
      },
      "execution_count": 66,
      "outputs": [
        {
          "output_type": "execute_result",
          "data": {
            "text/plain": [
              "(250, 20)"
            ]
          },
          "metadata": {},
          "execution_count": 66
        }
      ]
    },
    {
      "cell_type": "code",
      "source": [
        "W=torch.randn(20,1,requires_grad=True)\n",
        "b=torch.randn(1,requires_grad=True)\n",
        "learning_rate=0.001\n",
        "for epoch in range(10):\n",
        "  epoch_loss=0\n",
        "  counter=0\n",
        "  for data in train_loader:\n",
        "    xtrain=data[\"samples\"]\n",
        "    ytrain=data[\"target\"]\n",
        "    output=model(xtrain,W,b)\n",
        "    #view(-1) flattens the tensor\n",
        "    #Using mean square error\n",
        "    loss=torch.mean((ytrain.view(-1)-output.view(-1))**2)\n",
        "    epoch_loss=epoch_loss+loss.item()\n",
        "    #Calculate gradients\n",
        "    loss.backward()\n",
        "    with torch.no_grad():#Requires grad becomes false whatever you write inside it\n",
        "      W=W-learning_rate*W.grad\n",
        "      b=b-learning_rate*b.grad\n",
        "    W.requires_grad_(True)\n",
        "    b.requires_grad_(True)\n",
        "    counter+=1\n",
        "  print(\"Epoch:\",epoch,\" Loss:\",epoch_loss/counter)"
      ],
      "metadata": {
        "colab": {
          "base_uri": "https://localhost:8080/"
        },
        "id": "Y_SSIDfHiaWU",
        "outputId": "d3afb4aa-cfcb-4954-ae87-ea41672a9706"
      },
      "execution_count": 70,
      "outputs": [
        {
          "output_type": "stream",
          "name": "stdout",
          "text": [
            "Epoch: 0  Loss: 19.7356443788777\n",
            "Epoch: 1  Loss: 6.080344937186926\n",
            "Epoch: 2  Loss: 2.200814369947035\n",
            "Epoch: 3  Loss: 0.9334232404907333\n",
            "Epoch: 4  Loss: 0.4590252748135715\n",
            "Epoch: 5  Loss: 0.26138423014669976\n",
            "Epoch: 6  Loss: 0.1728114281047849\n",
            "Epoch: 7  Loss: 0.13119471862793286\n",
            "Epoch: 8  Loss: 0.11101175882318552\n",
            "Epoch: 9  Loss: 0.10099751815358375\n"
          ]
        }
      ]
    },
    {
      "cell_type": "code",
      "source": [
        "#Calculating metric\n",
        "output=[]\n",
        "label=[]\n",
        "with torch.no_grad():\n",
        "  for data in test_loader:\n",
        "    xtest=data[\"samples\"]\n",
        "    ytest=data[\"target\"]\n",
        "    #W and b values are updated from training set\n",
        "    op=model(xtest,W,b)\n",
        "    label.append(ytest)\n",
        "    output.append(op)"
      ],
      "metadata": {
        "id": "eCFjitLIlVIl"
      },
      "execution_count": 71,
      "outputs": []
    },
    {
      "cell_type": "code",
      "source": [
        "torch.cat(output).view(-1)"
      ],
      "metadata": {
        "colab": {
          "base_uri": "https://localhost:8080/"
        },
        "id": "N42ZmHgvnUKt",
        "outputId": "579d7dea-7971-462d-c463-40b482f6a681"
      },
      "execution_count": 72,
      "outputs": [
        {
          "output_type": "execute_result",
          "data": {
            "text/plain": [
              "tensor([-1.7357e-01,  6.0895e-01,  2.9621e-02,  8.3146e-01,  1.3690e+00,\n",
              "         6.5193e-01,  4.4165e-01,  1.0258e+00,  1.6780e-01, -1.1883e-01,\n",
              "         2.3552e-01,  8.3548e-01,  5.5189e-01,  1.2748e+00, -3.3838e-03,\n",
              "         1.7462e-01,  6.3678e-02,  1.1307e+00,  7.9388e-01, -3.9212e-01,\n",
              "         2.7350e-01,  2.1527e-01,  8.8374e-01,  5.0823e-01,  6.8995e-01,\n",
              "         9.3525e-02,  1.0282e+00,  3.4050e-01,  2.8947e-01,  5.3769e-01,\n",
              "         1.2082e+00,  4.7015e-01, -2.2216e-01, -6.9085e-02,  2.1092e-01,\n",
              "         1.0844e+00,  4.0619e-01, -5.0292e-02,  5.2326e-01,  5.3003e-01,\n",
              "         1.1765e+00,  1.1850e+00,  3.1493e-01, -2.1505e-01,  1.9966e-01,\n",
              "         2.5099e-01,  1.0766e-01,  1.3747e+00,  1.0393e+00,  8.9163e-01,\n",
              "         7.7321e-01, -1.8958e-01,  8.1276e-01,  1.1491e+00,  7.5013e-01,\n",
              "         3.7016e-01,  8.8186e-01, -1.9509e-01,  3.4284e-01,  8.2973e-01,\n",
              "         9.7400e-01,  7.5238e-01,  6.7063e-01,  3.3359e-01,  6.6598e-01,\n",
              "         6.0821e-01,  1.6733e-01,  4.0194e-02,  3.3611e-01,  7.8984e-01,\n",
              "         8.0799e-01,  7.2410e-01,  1.2218e-01,  4.6082e-01,  1.8169e-01,\n",
              "         4.7020e-01,  1.9840e-01,  1.1753e+00,  8.1640e-01,  5.8824e-01,\n",
              "         4.9191e-01,  7.0378e-01,  3.7903e-01,  4.3559e-01,  4.3113e-01,\n",
              "         1.1857e-01, -5.8499e-02,  1.4193e-01,  9.3420e-01,  2.6970e-01,\n",
              "         1.6521e-01,  2.0667e-01,  6.2032e-01,  3.7687e-01,  6.7425e-01,\n",
              "         7.3393e-01,  1.7760e-01,  3.0632e-01,  1.1287e+00, -1.5015e-01,\n",
              "        -8.7480e-02,  7.6459e-01,  1.1841e+00,  6.9723e-01,  1.2092e-01,\n",
              "         2.5262e-01,  9.9627e-01,  1.3066e+00,  9.2013e-01,  6.4331e-01,\n",
              "         2.4692e-01,  7.9101e-01,  3.9286e-02,  2.1891e-01,  7.9422e-01,\n",
              "         1.0805e+00,  7.1802e-01, -9.6851e-02,  4.6072e-01,  9.0529e-01,\n",
              "         9.5488e-02,  7.7693e-01,  4.2761e-01,  9.7276e-01,  8.8117e-01,\n",
              "         8.2188e-02,  1.5535e+00,  5.1806e-01,  8.5037e-01,  3.4513e-01,\n",
              "         2.4507e-01,  9.7878e-01,  9.0582e-01,  2.8489e-01,  2.8786e-01,\n",
              "         2.5545e-02,  9.9884e-01,  1.0067e+00,  3.5863e-01,  2.5795e-01,\n",
              "         9.3010e-01,  9.2207e-01,  1.1069e-01,  1.2659e-01,  3.4395e-01,\n",
              "        -4.9792e-02,  6.6013e-01,  1.7190e-01,  1.6393e+00,  2.2161e-01,\n",
              "        -7.2598e-04,  4.6203e-01, -1.3996e-01,  1.5741e-01,  7.4128e-01,\n",
              "         6.1427e-02,  1.7667e-01,  4.6129e-01,  3.8177e-01,  1.0648e-01,\n",
              "         2.1413e-01,  5.5630e-01,  3.3928e-01,  6.2992e-01,  6.2759e-01,\n",
              "         1.7667e-01,  3.9422e-01,  2.9668e-01,  8.9874e-01,  3.4572e-01,\n",
              "         9.1930e-01,  6.8188e-01, -1.7002e-01,  1.3792e+00,  3.4535e-01,\n",
              "         5.4654e-02,  9.1148e-01,  9.0005e-01,  1.8966e-01,  1.0978e-01,\n",
              "         1.5818e-01,  1.2313e+00,  3.1851e-01,  1.0302e-01,  3.9423e-01,\n",
              "         3.1211e-01,  7.0215e-02,  1.0210e+00,  3.3491e-01, -1.2372e-01,\n",
              "         3.9499e-01,  1.2561e+00,  6.8233e-01,  1.1680e+00,  8.4032e-01,\n",
              "         8.6144e-01,  2.4667e-01,  4.7179e-01,  3.9290e-01, -5.2903e-01,\n",
              "         5.8014e-02,  2.8911e-01,  3.7758e-01,  1.4967e-01,  1.0898e+00,\n",
              "         4.9376e-01, -3.3269e-01,  1.7817e-02, -3.1467e-01,  1.1143e-01,\n",
              "         2.8218e-01,  2.0438e-01,  5.6230e-01,  4.8448e-01,  2.7187e-01,\n",
              "         7.5518e-02,  2.4390e-01,  2.3570e-02,  5.7878e-01,  1.3606e-01,\n",
              "         1.0192e-01,  1.1451e+00,  6.1002e-01,  1.7222e-01,  6.6785e-01,\n",
              "         1.0215e+00, -1.6458e-02,  1.1979e+00,  5.1408e-01,  4.6334e-01,\n",
              "         4.4566e-01,  8.5151e-01, -1.1597e-01,  5.7232e-01,  1.9251e-01,\n",
              "         4.3333e-01,  1.1567e+00,  6.7309e-01,  5.0157e-01,  9.7373e-01,\n",
              "         4.0932e-02,  4.8702e-01,  1.8178e-01,  1.3845e-01,  3.2889e-01,\n",
              "         2.6342e-01,  1.0767e+00,  1.1840e-01,  8.3943e-01,  2.1595e-02])"
            ]
          },
          "metadata": {},
          "execution_count": 72
        }
      ]
    },
    {
      "cell_type": "code",
      "source": [
        "metrics.roc_auc_score(torch.cat(label).view(-1),torch.cat(output).view(-1))"
      ],
      "metadata": {
        "colab": {
          "base_uri": "https://localhost:8080/"
        },
        "id": "r2VC-2ncnbMc",
        "outputId": "c8200159-6cb5-441b-a1ec-32b9c6a9d91b"
      },
      "execution_count": 76,
      "outputs": [
        {
          "output_type": "execute_result",
          "data": {
            "text/plain": [
              "0.951168"
            ]
          },
          "metadata": {},
          "execution_count": 76
        }
      ]
    },
    {
      "cell_type": "code",
      "source": [],
      "metadata": {
        "id": "prqkXO-vn-k9"
      },
      "execution_count": null,
      "outputs": []
    }
  ]
}